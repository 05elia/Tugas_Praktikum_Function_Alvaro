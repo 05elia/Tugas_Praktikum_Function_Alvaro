{
  "metadata": {
    "kernelspec": {
      "name": "python",
      "display_name": "Python (Pyodide)",
      "language": "python"
    },
    "language_info": {
      "codemirror_mode": {
        "name": "python",
        "version": 3
      },
      "file_extension": ".py",
      "mimetype": "text/x-python",
      "name": "python",
      "nbconvert_exporter": "python",
      "pygments_lexer": "ipython3",
      "version": "3.8"
    }
  },
  "nbformat_minor": 4,
  "nbformat": 4,
  "cells": [
    {
      "cell_type": "markdown",
      "source": "<h1> Pengertian</h1>",
      "metadata": {}
    },
    {
      "cell_type": "code",
      "source": "1 Fungsi pada python adalah kumpulan perintah atau baris kode yang dikelompokkan menjadi satu kesatuan\nuntuk kemudian bisa dipanggil atau digunakan berkali-kali.\n\n2 Sebuah fungsi dapat menerima parameter, dapat mengembalikan suatu nilai, dan dapat dipanggil berkali-kali secara independen.\n",
      "metadata": {
        "trusted": true
      },
      "outputs": [],
      "execution_count": null
    },
    {
      "cell_type": "markdown",
      "source": "<h1> Keuntungan</h1>",
      "metadata": {}
    },
    {
      "cell_type": "code",
      "source": "1 Membuat kode program menjadi lebih “reusable” dan lebih terstruktur.\n2 Membagi kode program menjadi bagian-bagian kecil dengan tugasnya masing-masing.",
      "metadata": {
        "trusted": true
      },
      "outputs": [],
      "execution_count": null
    },
    {
      "cell_type": "markdown",
      "source": "<h1>Sintaks</h1> ",
      "metadata": {}
    },
    {
      "cell_type": "code",
      "source": "def function_name():\n    Logic Program\nCara memanggil fungsi dengan menuliskan function_name diikuti kurung buka tutup () beserta parameter jika ada\n\nfunction_name()\n\nBuatlah fungsi dengan nama \"helloPython\" yang berfungsi untuk mencetak \"Welcome in Python Language\"",
      "metadata": {
        "trusted": true
      },
      "outputs": [
        {
          "ename": "<class 'SyntaxError'>",
          "evalue": "invalid syntax (<ipython-input-5-f92671b0cc57>, line 2)",
          "traceback": [
            "\u001b[0;36m  Cell \u001b[0;32mIn[5], line 2\u001b[0;36m\u001b[0m\n\u001b[0;31m    Logic Program\u001b[0m\n\u001b[0m          ^\u001b[0m\n\u001b[0;31mSyntaxError\u001b[0m\u001b[0;31m:\u001b[0m invalid syntax\n"
          ],
          "output_type": "error"
        }
      ],
      "execution_count": 5
    },
    {
      "cell_type": "code",
      "source": "def hello_python():\n    print(\"Selamat datang di bahasa pemrograman phyton\")\n\nhello_python()",
      "metadata": {
        "trusted": true
      },
      "outputs": [
        {
          "name": "stdout",
          "text": "Selamat datang di bahasa pemrograman phyton\n",
          "output_type": "stream"
        }
      ],
      "execution_count": 7
    },
    {
      "cell_type": "markdown",
      "source": "<h1>Fungsi dengan parameter</h1>",
      "metadata": {}
    },
    {
      "cell_type": "code",
      "source": "Sebuah fungsi dapat menerima parameter ataupun argumen yang merupakan suatu nilai/variabel \nyang dilemparkan ke dalam fungsi untuk diproses lebih lanjut.\n",
      "metadata": {
        "trusted": true
      },
      "outputs": [],
      "execution_count": null
    },
    {
      "cell_type": "code",
      "source": "Sintaks\ndef function_name(param):\n    Logic Program\nCara memanggil fungsi dengan menuliskan function_name diikuti kurung buka tutup () beserta parameter\n\nfunction_name(param)\nBuatlah fungsi dengan nama \"NamaLengkap\" yang mempunyai parameter \"NamaDepan\" dan \"NamaBelakang\" atau \"Namatengah\" jika diperlukan\nhal ini diperlukan untuk mencetak \"Namadepan\", \"NamaTengah\", dan \"Namabelakang\" \n\n",
      "metadata": {
        "trusted": true
      },
      "outputs": [],
      "execution_count": null
    },
    {
      "cell_type": "code",
      "source": "def fullname(x, y, z):\n    print(f\"Nama depannya adalah : {x}\")\n    print(f\"Nama tengahnya adalah : {y}\")\n    print(f\"nama Belakangnya adalah : {z}\")\n\nfullname(\"Elia \", \"Jose Alvaro\", \"Rahayaan\")",
      "metadata": {
        "trusted": true
      },
      "outputs": [
        {
          "name": "stdout",
          "text": "Nama depannya adalah : Elia \nNama tengahnya adalah : Jose Alvaro\nnama Belakangnya adalah : Rahayaan\n",
          "output_type": "stream"
        }
      ],
      "execution_count": 10
    },
    {
      "cell_type": "code",
      "source": "Parameter fungsi diperbolehkan menggunakan lebih dari 1, dimana paramater tersebut ada yang wajib harus diisi dan ada yang tidak harus diisi\n\ndef function_name(param_1, param_2, param_3,....):\n    Logic Program\nCara memanggil fungsi dengan menuliskan function_name diikuti kurung buka tutup () beserta parameter\n\nfunction_name(param_1, param_2, param_3)",
      "metadata": {
        "trusted": true
      },
      "outputs": [
        {
          "ename": "<class 'SyntaxError'>",
          "evalue": "invalid syntax (<ipython-input-13-9b94ba7b74bc>, line 1)",
          "traceback": [
            "\u001b[0;36m  Cell \u001b[0;32mIn[13], line 1\u001b[0;36m\u001b[0m\n\u001b[0;31m    Parameter fungsi diperbolehkan menggunakan lebih dari 1, dimana paramater tersebut ada yang wajib harus diisi dan ada yang tidak harus diisi\u001b[0m\n\u001b[0m              ^\u001b[0m\n\u001b[0;31mSyntaxError\u001b[0m\u001b[0;31m:\u001b[0m invalid syntax\n"
          ],
          "output_type": "error"
        }
      ],
      "execution_count": 13
    },
    {
      "cell_type": "code",
      "source": "def max_value(val_1, val_2, val_3):\n    print(max(val_1, val_2, val_3))\n\nmax_value(45,60,121)\n",
      "metadata": {
        "trusted": true
      },
      "outputs": [
        {
          "name": "stdout",
          "text": "121\n",
          "output_type": "stream"
        }
      ],
      "execution_count": 17
    },
    {
      "cell_type": "code",
      "source": "Parameter opsional digunakan pada fungsi dengan cara memberikan nilai default, artinya nilai parameter sudah diberikan terlebih dahulu tanpa dipanggil\n\ndef function_name(param_1, param_2, param_3 = 'Nilai'):\n    Logic Program\nBuatlah fungsi \"countCircleArea\" dengan 2 parameter yaitu \"phi\" dan \"diameter\" dimana parameter phi mempunyai nilai default 3.14\n",
      "metadata": {
        "trusted": true
      },
      "outputs": [],
      "execution_count": null
    },
    {
      "cell_type": "code",
      "source": "def lingkaran(diameter, phi = 3.14):\n    luas = phi * diameter * diameter\n    print(f\"Luas lingkaran : \", luas)\n\nlingkaran(8)",
      "metadata": {
        "trusted": true
      },
      "outputs": [
        {
          "name": "stdout",
          "text": "Luas lingkaran :  200.96\n",
          "output_type": "stream"
        }
      ],
      "execution_count": 19
    },
    {
      "cell_type": "code",
      "source": "Luas lingkaran :  153.86\nFungsi dengan 2 Parameter opsional juga dapat dilakukan pada Python.\n\ndef info(suhu, daerah='Sukabumi', satuan = 'Celcius'):\n    print(f\"Suhu sekarang di {daerah} : {suhu} {satuan} \")\nAdapun Cara memanggilnya\n\ninfo(30)",
      "metadata": {
        "trusted": true
      },
      "outputs": [],
      "execution_count": null
    },
    {
      "cell_type": "code",
      "source": "#Cobalah fungsi tersebut pada area kode disini\ndef info(suhu, daerah='Frankfurt', satuan = 'Celcius'):\n    print(f\"Suhu sekarang di {daerah} : {suhu} {satuan} \")\n\ninfo(22)",
      "metadata": {
        "trusted": true
      },
      "outputs": [
        {
          "name": "stdout",
          "text": "Suhu sekarang di Frankfurt : 22 Celcius \n",
          "output_type": "stream"
        }
      ],
      "execution_count": 21
    },
    {
      "cell_type": "markdown",
      "source": "<h1>Fungsi dengan Return Value</h1>",
      "metadata": {}
    },
    {
      "cell_type": "code",
      "source": "Yaitu fungsi dimana akhir dari programnya adalah nilai kembalian atau nilai balik. \nArtinya nilai dalam fungsi dapat ditampung lagi ke variabel lain untuk digunakan operasi lebih lanjut.\n\nBuatlah fungsi dengan return value yang digunakan untuk mengecek sebuah bilangan termasuk bilangan negatif, \nbilangan neteral(0) dan bilangan positif\n",
      "metadata": {
        "trusted": true
      },
      "outputs": [],
      "execution_count": null
    },
    {
      "cell_type": "code",
      "source": "def cek_angka(angka):\n    if angka < 0:\n        return \"Ini Negatif\"\n\n    elif angka == 0:\n        return \"Ini Netral\"\n\n    else:\n        return \"Ini Positif\"\n\nprint(cek_angka(-6))\nprint(cek_angka(-10))\nprint(cek_angka(29))\nprint(cek_angka(0))\nprint(cek_angka(100))",
      "metadata": {
        "trusted": true
      },
      "outputs": [
        {
          "name": "stdout",
          "text": "Ini Negatif\nIni Negatif\nIni Positif\nIni Netral\nIni Positif\n",
          "output_type": "stream"
        }
      ],
      "execution_count": 23
    },
    {
      "cell_type": "markdown",
      "source": "<h1>Soal Latihan</h1>",
      "metadata": {}
    },
    {
      "cell_type": "markdown",
      "source": "<o1>        <li> Buatlah fungsi untuk menjumlahkan total nilai dari list\n        <li> Buatlah fungsi untuk mencari nilai terbesar dari sekumpulan list\n        <li> Buatlah fungsi untuk menjumlahkan 2 buah list\n",
      "metadata": {}
    },
    {
      "cell_type": "code",
      "source": "#Soal 1\ndef nilai(angka):\n    total = sum(angka)\n    return total\n\nlist = [1,2,4,5,6]\ntotal_jum = nilai(list)\nprint(f\"Total nilai adalah = \",total_jum)",
      "metadata": {
        "trusted": true
      },
      "outputs": [
        {
          "name": "stdout",
          "text": "Total nilai adalah =  18\n",
          "output_type": "stream"
        }
      ],
      "execution_count": 24
    },
    {
      "cell_type": "code",
      "source": "#Soal 2\ndef nilai_terbesar(number):\n    besar = max(number)\n    return besar\n\nnumbers = [5,12,90,21]\nterbesar = nilai_terbesar(numbers)\nprint(f\"Angka terbesar adalah = \", terbesar)",
      "metadata": {
        "trusted": true
      },
      "outputs": [
        {
          "name": "stdout",
          "text": "Angka terbesar adalah =  90\n",
          "output_type": "stream"
        }
      ],
      "execution_count": 25
    },
    {
      "cell_type": "code",
      "source": "#Soal 3\nlist1 = [7,8,9,10]\nlist2 = [10,9,8,7]\n\ndef jum_list(list_1, list_2):\n    hasil = []\n    for a, b in zip(list_1, list_2):\n        hasil.append(a + b)\n\n    return hasil \n\nhasil_penjumlahan = jum_list(list1, list2)\nprint(\"Hasil Penjumlahan:\", hasil_penjumlahan)",
      "metadata": {
        "trusted": true
      },
      "outputs": [
        {
          "name": "stdout",
          "text": "Hasil Penjumlahan: [17, 17, 17, 17]\n",
          "output_type": "stream"
        }
      ],
      "execution_count": 28
    },
    {
      "cell_type": "code",
      "source": "",
      "metadata": {
        "trusted": true
      },
      "outputs": [],
      "execution_count": null
    }
  ]
}